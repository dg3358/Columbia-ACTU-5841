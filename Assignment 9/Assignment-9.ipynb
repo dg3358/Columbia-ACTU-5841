{
 "cells": [
  {
   "cell_type": "markdown",
   "metadata": {},
   "source": [
    "# Assignment 9 - Data Science in Finance and Insurance\n",
    "Submission by: Dennis Goldenberg"
   ]
  },
  {
   "cell_type": "code",
   "execution_count": 4,
   "metadata": {},
   "outputs": [],
   "source": [
    "#import statements\n",
    "import numpy as np\n",
    "import pandas as pd;\n",
    "from sklearn.naive_bayes import CategoricalNB, GaussianNB, MultinomialNB\n",
    "from sklearn.preprocessing import LabelEncoder"
   ]
  },
  {
   "cell_type": "code",
   "execution_count": 5,
   "metadata": {},
   "outputs": [
    {
     "data": {
      "text/html": [
       "<div>\n",
       "<style scoped>\n",
       "    .dataframe tbody tr th:only-of-type {\n",
       "        vertical-align: middle;\n",
       "    }\n",
       "\n",
       "    .dataframe tbody tr th {\n",
       "        vertical-align: top;\n",
       "    }\n",
       "\n",
       "    .dataframe thead th {\n",
       "        text-align: right;\n",
       "    }\n",
       "</style>\n",
       "<table border=\"1\" class=\"dataframe\">\n",
       "  <thead>\n",
       "    <tr style=\"text-align: right;\">\n",
       "      <th></th>\n",
       "      <th>category</th>\n",
       "      <th>quality</th>\n",
       "      <th>temperature</th>\n",
       "      <th>value</th>\n",
       "    </tr>\n",
       "  </thead>\n",
       "  <tbody>\n",
       "    <tr>\n",
       "      <th>0</th>\n",
       "      <td>C1</td>\n",
       "      <td>B</td>\n",
       "      <td>H</td>\n",
       "      <td>86</td>\n",
       "    </tr>\n",
       "    <tr>\n",
       "      <th>1</th>\n",
       "      <td>C1</td>\n",
       "      <td>G</td>\n",
       "      <td>C</td>\n",
       "      <td>15</td>\n",
       "    </tr>\n",
       "    <tr>\n",
       "      <th>2</th>\n",
       "      <td>C1</td>\n",
       "      <td>G</td>\n",
       "      <td>H</td>\n",
       "      <td>40</td>\n",
       "    </tr>\n",
       "    <tr>\n",
       "      <th>3</th>\n",
       "      <td>C1</td>\n",
       "      <td>G</td>\n",
       "      <td>H</td>\n",
       "      <td>33</td>\n",
       "    </tr>\n",
       "    <tr>\n",
       "      <th>4</th>\n",
       "      <td>C2</td>\n",
       "      <td>B</td>\n",
       "      <td>C</td>\n",
       "      <td>25</td>\n",
       "    </tr>\n",
       "    <tr>\n",
       "      <th>5</th>\n",
       "      <td>C2</td>\n",
       "      <td>B</td>\n",
       "      <td>C</td>\n",
       "      <td>38</td>\n",
       "    </tr>\n",
       "    <tr>\n",
       "      <th>6</th>\n",
       "      <td>C2</td>\n",
       "      <td>G</td>\n",
       "      <td>H</td>\n",
       "      <td>73</td>\n",
       "    </tr>\n",
       "    <tr>\n",
       "      <th>7</th>\n",
       "      <td>C2</td>\n",
       "      <td>G</td>\n",
       "      <td>H</td>\n",
       "      <td>79</td>\n",
       "    </tr>\n",
       "    <tr>\n",
       "      <th>8</th>\n",
       "      <td>C2</td>\n",
       "      <td>G</td>\n",
       "      <td>H</td>\n",
       "      <td>28</td>\n",
       "    </tr>\n",
       "    <tr>\n",
       "      <th>9</th>\n",
       "      <td>C2</td>\n",
       "      <td>G</td>\n",
       "      <td>C</td>\n",
       "      <td>50</td>\n",
       "    </tr>\n",
       "  </tbody>\n",
       "</table>\n",
       "</div>"
      ],
      "text/plain": [
       "  category quality temperature  value\n",
       "0       C1       B           H     86\n",
       "1       C1       G           C     15\n",
       "2       C1       G           H     40\n",
       "3       C1       G           H     33\n",
       "4       C2       B           C     25\n",
       "5       C2       B           C     38\n",
       "6       C2       G           H     73\n",
       "7       C2       G           H     79\n",
       "8       C2       G           H     28\n",
       "9       C2       G           C     50"
      ]
     },
     "execution_count": 5,
     "metadata": {},
     "output_type": "execute_result"
    }
   ],
   "source": [
    "#Generate datasaet\n",
    "\n",
    "#Generate variables\n",
    "category = pd.Categorical([\"C1\"] * 4 + [\"C2\"] * 6)\n",
    "quality = pd.Categorical([\"B\"] + [\"G\"]*3 + [\"B\"]*2 + [\"G\"]*4)\n",
    "temperature = pd.Categorical([\"H\"] + [\"C\"] + [\"H\"]*2 + [\"C\"]*2 + [\"H\"]*3 + [\"C\"])\n",
    "value = [86, 15, 40, 33, 25, 38, 73, 79, 28, 50]\n",
    "\n",
    "#Create training set\n",
    "train_set = pd.DataFrame({\"category\": category, \"quality\": quality,\\\n",
    "    \"temperature\": temperature, \"value\": value})\n",
    "train_set"
   ]
  },
  {
   "cell_type": "code",
   "execution_count": 6,
   "metadata": {},
   "outputs": [
    {
     "data": {
      "text/html": [
       "<div>\n",
       "<style scoped>\n",
       "    .dataframe tbody tr th:only-of-type {\n",
       "        vertical-align: middle;\n",
       "    }\n",
       "\n",
       "    .dataframe tbody tr th {\n",
       "        vertical-align: top;\n",
       "    }\n",
       "\n",
       "    .dataframe thead th {\n",
       "        text-align: right;\n",
       "    }\n",
       "</style>\n",
       "<table border=\"1\" class=\"dataframe\">\n",
       "  <thead>\n",
       "    <tr style=\"text-align: right;\">\n",
       "      <th></th>\n",
       "      <th>category</th>\n",
       "      <th>quality</th>\n",
       "      <th>temperature</th>\n",
       "      <th>value</th>\n",
       "    </tr>\n",
       "  </thead>\n",
       "  <tbody>\n",
       "    <tr>\n",
       "      <th>0</th>\n",
       "      <td>0</td>\n",
       "      <td>0</td>\n",
       "      <td>1</td>\n",
       "      <td>86</td>\n",
       "    </tr>\n",
       "    <tr>\n",
       "      <th>1</th>\n",
       "      <td>0</td>\n",
       "      <td>1</td>\n",
       "      <td>0</td>\n",
       "      <td>15</td>\n",
       "    </tr>\n",
       "    <tr>\n",
       "      <th>2</th>\n",
       "      <td>0</td>\n",
       "      <td>1</td>\n",
       "      <td>1</td>\n",
       "      <td>40</td>\n",
       "    </tr>\n",
       "    <tr>\n",
       "      <th>3</th>\n",
       "      <td>0</td>\n",
       "      <td>1</td>\n",
       "      <td>1</td>\n",
       "      <td>33</td>\n",
       "    </tr>\n",
       "    <tr>\n",
       "      <th>4</th>\n",
       "      <td>1</td>\n",
       "      <td>0</td>\n",
       "      <td>0</td>\n",
       "      <td>25</td>\n",
       "    </tr>\n",
       "    <tr>\n",
       "      <th>5</th>\n",
       "      <td>1</td>\n",
       "      <td>0</td>\n",
       "      <td>0</td>\n",
       "      <td>38</td>\n",
       "    </tr>\n",
       "    <tr>\n",
       "      <th>6</th>\n",
       "      <td>1</td>\n",
       "      <td>1</td>\n",
       "      <td>1</td>\n",
       "      <td>73</td>\n",
       "    </tr>\n",
       "    <tr>\n",
       "      <th>7</th>\n",
       "      <td>1</td>\n",
       "      <td>1</td>\n",
       "      <td>1</td>\n",
       "      <td>79</td>\n",
       "    </tr>\n",
       "    <tr>\n",
       "      <th>8</th>\n",
       "      <td>1</td>\n",
       "      <td>1</td>\n",
       "      <td>1</td>\n",
       "      <td>28</td>\n",
       "    </tr>\n",
       "    <tr>\n",
       "      <th>9</th>\n",
       "      <td>1</td>\n",
       "      <td>1</td>\n",
       "      <td>0</td>\n",
       "      <td>50</td>\n",
       "    </tr>\n",
       "  </tbody>\n",
       "</table>\n",
       "</div>"
      ],
      "text/plain": [
       "   category  quality  temperature  value\n",
       "0         0        0            1     86\n",
       "1         0        1            0     15\n",
       "2         0        1            1     40\n",
       "3         0        1            1     33\n",
       "4         1        0            0     25\n",
       "5         1        0            0     38\n",
       "6         1        1            1     73\n",
       "7         1        1            1     79\n",
       "8         1        1            1     28\n",
       "9         1        1            0     50"
      ]
     },
     "execution_count": 6,
     "metadata": {},
     "output_type": "execute_result"
    }
   ],
   "source": [
    "#Ordinarily Encode categorical variables\n",
    "for i in ['category', 'quality', 'temperature']:\n",
    "    le = LabelEncoder()\n",
    "    le.fit(train_set[i])\n",
    "    train_set[i] = le.transform(train_set[i])\n",
    "train_set"
   ]
  },
  {
   "cell_type": "code",
   "execution_count": 7,
   "metadata": {},
   "outputs": [
    {
     "data": {
      "text/plain": [
       "array([0.4, 0.6])"
      ]
     },
     "execution_count": 7,
     "metadata": {},
     "output_type": "execute_result"
    }
   ],
   "source": [
    "# generate priors\n",
    "priors = np.asarray([train_set['category'].value_counts()[j] for j in range(2)])/len(train_set)\n",
    "priors"
   ]
  },
  {
   "cell_type": "markdown",
   "metadata": {},
   "source": [
    "## Multinomial Naive Bayes"
   ]
  },
  {
   "cell_type": "code",
   "execution_count": 79,
   "metadata": {},
   "outputs": [
    {
     "data": {
      "text/plain": [
       "array([[0.42857143, 0.57142857],\n",
       "       [0.375     , 0.625     ],\n",
       "       [0.40298507, 0.59701493],\n",
       "       [0.40298507, 0.59701493],\n",
       "       [0.4       , 0.6       ],\n",
       "       [0.4       , 0.6       ],\n",
       "       [0.40298507, 0.59701493],\n",
       "       [0.40298507, 0.59701493],\n",
       "       [0.40298507, 0.59701493],\n",
       "       [0.375     , 0.625     ]])"
      ]
     },
     "execution_count": 79,
     "metadata": {},
     "output_type": "execute_result"
    }
   ],
   "source": [
    "mb_fit = MultinomialNB().fit(train_set[['quality', 'temperature']], train_set['category'])\n",
    "probs_mb = mb_fit.predict_proba(train_set[['quality', 'temperature']])\n",
    "probs_mb"
   ]
  },
  {
   "cell_type": "markdown",
   "metadata": {},
   "source": [
    "### Manual Implementation of Multinomial"
   ]
  },
  {
   "cell_type": "code",
   "execution_count": 85,
   "metadata": {},
   "outputs": [],
   "source": [
    "train_1s = train_set.loc[train_set['category'].values.nonzero()]\n",
    "train_0s = pd.concat([train_set, train_1s]).drop_duplicates(keep = False)\n",
    "\n",
    "## P(quality = 0| Y = 0) and P(quality = 1| Y = 0)\n",
    "p_qy0 = np.asarray([train_0s['quality'].value_counts()[j] for j in range(2)])/len(train_0s)\n",
    "##P(quality = 1|Y = 1) and P(quality = 1|Y = 1)\n",
    "p_qy1 = np.asarray([train_1s['quality'].value_counts()[j] for j in range(2)])/len(train_1s)\n",
    "p_qy = np.vstack((p_qy0,p_qy1))\n",
    "\n",
    "## P(temperature = 0| Y = 0) and P(temperature = 1|Y = 0)\n",
    "p_ty0 = np.asarray([train_0s['temperature'].value_counts()[j] for j in range(2)])/len(train_0s)\n",
    "## P(temperature = 0| Y = 1) and P(temperature = 1| Y = 1)\n",
    "p_ty1 = np.asarray([train_1s['temperature'].value_counts()[j] for j in range(2)])/len(train_1s)\n",
    "p_ty = np.vstack((p_ty0, p_ty1))"
   ]
  },
  {
   "cell_type": "markdown",
   "metadata": {},
   "source": [
    "Implemeting the multinomial Bayesian formula for the probabilities, for Category 1:\n",
    "$$\\begin{align*}\n",
    "&\\widehat{\\mathbb{P}}(\\text{C} = 0|\\text{Q} = x_1, \\text{T} = x_2)\\\\\n",
    "&= \\frac{\\pi_{0} * \\mathbb{P}(\\text{Q} = 1|\\text{C} = 0)\\mathbb{P}(\\text{T} = 1|\\text{C} = 0)}{\\pi_{0} * \\mathbb{P}(\\text{Q} = 1|\\text{C} = 0)\\mathbb{P}(\\text{T} = 1|\\text{C} = 0) + \\pi_{1} * \\mathbb{P}(\\text{Q} = 1|\\text{C} = 1)\\mathbb{P}(\\text{T} = 1|\\text{C} = 1)}\n",
    "\\end{align*}$$\n",
    "And noting that we have only 2 categories:\n",
    "$$\n",
    "\\begin{equation*}\n",
    "\\widehat{\\mathbb{P}}(\\text{C} = 1|\\text{Q} = x_1, \\text{T} = x_2) = 1 - \\hat{\\mathbb{P}}(\\text{C} = 0|\\text{Q} = x_1, \\text{T} = x_2)\n",
    "\\end{equation*}\n",
    "$$"
   ]
  },
  {
   "cell_type": "code",
   "execution_count": 86,
   "metadata": {},
   "outputs": [
    {
     "data": {
      "text/plain": [
       "array([[0.42857143, 0.57142857],\n",
       "       [0.27272727, 0.72727273],\n",
       "       [0.52941176, 0.47058824],\n",
       "       [0.52941176, 0.47058824],\n",
       "       [0.2       , 0.8       ],\n",
       "       [0.2       , 0.8       ],\n",
       "       [0.52941176, 0.47058824],\n",
       "       [0.52941176, 0.47058824],\n",
       "       [0.52941176, 0.47058824],\n",
       "       [0.27272727, 0.72727273]])"
      ]
     },
     "execution_count": 86,
     "metadata": {},
     "output_type": "execute_result"
    }
   ],
   "source": [
    "p_0MB = np.asarray([priors[0]*p_qy[0,j['quality']]*p_ty[0, j['temperature']]/\\\n",
    "                    (priors[0]*p_qy[0,j['quality']]*p_ty[0, j['temperature']] +\\\n",
    "                     priors[1]*p_qy[1,j['quality']]*p_ty[1, j['temperature']])\\\n",
    "                     for (i,j) in train_set.iterrows()])\n",
    "\n",
    "p_1MB = 1 - p_0MB\n",
    "probs_mb = np.vstack((p_0MB, p_1MB)).T\n",
    "probs_mb"
   ]
  },
  {
   "cell_type": "markdown",
   "metadata": {},
   "source": [
    "## Gaussian Naive Bayes"
   ]
  },
  {
   "cell_type": "code",
   "execution_count": 81,
   "metadata": {},
   "outputs": [],
   "source": [
    "gb_fit = GaussianNB().fit(train_set['value'].values.reshape(-1,1), train_set['category'])\n",
    "probs_gb = gb_fit.predict_proba(train_set['value'].values.reshape(-1,1))"
   ]
  },
  {
   "cell_type": "code",
   "execution_count": 82,
   "metadata": {},
   "outputs": [],
   "source": [
    "#Formula manipulation\n",
    "mb_ratios = (probs_mb[:, 0]/probs_mb[:,1]) * (priors[1]/priors[0])\n",
    "gb_ratios = (probs_gb[:, 0]/probs_gb[:,1]) * (priors[1]/priors[0])\n",
    "pred_prob_ratios = mb_ratios * gb_ratios * (priors[0]/priors[1])"
   ]
  },
  {
   "cell_type": "code",
   "execution_count": 84,
   "metadata": {},
   "outputs": [
    {
     "data": {
      "text/plain": [
       "array([0.43854012, 0.38072284, 0.49301851, 0.52464652, 0.2295921 ,\n",
       "       0.18242375, 0.48164762, 0.50400237, 0.55333349, 0.22506505])"
      ]
     },
     "execution_count": 84,
     "metadata": {},
     "output_type": "execute_result"
    }
   ],
   "source": [
    "p_1 = 1/(1 + pred_prob_ratios)\n",
    "1 - p_1"
   ]
  },
  {
   "cell_type": "code",
   "execution_count": null,
   "metadata": {},
   "outputs": [],
   "source": []
  }
 ],
 "metadata": {
  "kernelspec": {
   "display_name": "myenv",
   "language": "python",
   "name": "python3"
  },
  "language_info": {
   "codemirror_mode": {
    "name": "ipython",
    "version": 3
   },
   "file_extension": ".py",
   "mimetype": "text/x-python",
   "name": "python",
   "nbconvert_exporter": "python",
   "pygments_lexer": "ipython3",
   "version": "3.10.13"
  }
 },
 "nbformat": 4,
 "nbformat_minor": 2
}
