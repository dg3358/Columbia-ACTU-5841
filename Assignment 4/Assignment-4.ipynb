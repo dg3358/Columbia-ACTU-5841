{
 "cells": [
  {
   "cell_type": "markdown",
   "metadata": {},
   "source": [
    "# Assignment 4 - Data Science in Finance and Insurance\n",
    "Submission by: Dennis Goldenberg"
   ]
  },
  {
   "cell_type": "code",
   "execution_count": 6,
   "metadata": {},
   "outputs": [],
   "source": [
    "#Import Statements\n",
    "import numpy as np\n",
    "import pandas as pd\n",
    "import matplotlib.pyplot as plt\n",
    "from sklearn.neighbors import NearestNeighbors"
   ]
  },
  {
   "cell_type": "markdown",
   "metadata": {},
   "source": [
    "## Read in Data, Scale Distances"
   ]
  },
  {
   "cell_type": "code",
   "execution_count": 54,
   "metadata": {},
   "outputs": [],
   "source": [
    "K = 7;\n",
    "#read in data\n",
    "rawData = pd.read_csv(\"data.csv\")\n",
    "\n",
    "#find the 7 nearest neighbors to each, use p = 1 for l1-norm\n",
    "nn = NearestNeighbors(n_neighbors= K, p = 1).fit(rawData);\n",
    "\n",
    "#Get distances\n",
    "distances = nn.kneighbors()[0];\n",
    "#find max distances - using the 7th nearest neighbor as they are naturally ordered\n",
    "maxdistances = np.expand_dims(nn.kneighbors()[0][:,6], axis = 1)\n",
    "\n",
    "scaled_dist = distances/maxdistances"
   ]
  },
  {
   "cell_type": "markdown",
   "metadata": {},
   "source": [
    "## Derive Weights using tri-cube function"
   ]
  },
  {
   "cell_type": "code",
   "execution_count": null,
   "metadata": {},
   "outputs": [],
   "source": []
  }
 ],
 "metadata": {
  "kernelspec": {
   "display_name": "myenv",
   "language": "python",
   "name": "python3"
  },
  "language_info": {
   "codemirror_mode": {
    "name": "ipython",
    "version": 3
   },
   "file_extension": ".py",
   "mimetype": "text/x-python",
   "name": "python",
   "nbconvert_exporter": "python",
   "pygments_lexer": "ipython3",
   "version": "3.10.13"
  }
 },
 "nbformat": 4,
 "nbformat_minor": 2
}
