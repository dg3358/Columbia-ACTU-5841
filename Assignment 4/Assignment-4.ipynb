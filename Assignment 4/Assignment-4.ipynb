{
 "cells": [
  {
   "cell_type": "markdown",
   "metadata": {},
   "source": [
    "# Assignment 4 - Data Science in Finance and Insurance\n",
    "Submission by: Dennis Goldenberg"
   ]
  },
  {
   "cell_type": "code",
   "execution_count": 2,
   "metadata": {},
   "outputs": [],
   "source": [
    "#Import Statements\n",
    "import numpy as np\n",
    "import pandas as pd\n",
    "import matplotlib.pyplot as plt\n",
    "from sklearn.neighbors import NearestNeighbors"
   ]
  },
  {
   "cell_type": "markdown",
   "metadata": {},
   "source": [
    "## Read in Data, Scale Distances"
   ]
  },
  {
   "cell_type": "code",
   "execution_count": 38,
   "metadata": {},
   "outputs": [],
   "source": [
    "K = 7;\n",
    "#read in data\n",
    "rawData = pd.read_csv(\"data.csv\")\n",
    "\n",
    "\n",
    "#Create nearest neghbors algorithm, use p = 1 for l1-norm\n",
    "nn = NearestNeighbors(n_neighbors = K, p = 1).fit(np.asarray(rawData['x']).reshape(-1, 1));\n",
    "\n",
    "#Generate x vals to regress on, find nearest neighbors in dataset\n",
    "xgrid = np.linspace(rawData['x'].min(), rawData['x'].max(), 50)\n",
    "kn = nn.kneighbors(xgrid.reshape(-1, 1), K, return_distance= True)\n",
    "\n",
    "#find max distances - using the 7th nearest neighbor as they are naturally ordered\n",
    "distances = kn[0]\n",
    "maxdistances = np.expand_dims(kn[0][:,6], axis = 1)\n",
    "\n",
    "#Get scaled distances\n",
    "scaled_dist = distances/maxdistances\n"
   ]
  },
  {
   "cell_type": "markdown",
   "metadata": {},
   "source": [
    "## Derive Weights using tri-cube function"
   ]
  },
  {
   "cell_type": "code",
   "execution_count": 39,
   "metadata": {},
   "outputs": [],
   "source": [
    "#tri-cube function\n",
    "tricube = lambda distance_vec: np.power(1 - np.power(np.abs(distance_vec), 3), 3)\n",
    "\n",
    "weights = tricube(scaled_dist)"
   ]
  },
  {
   "cell_type": "markdown",
   "metadata": {},
   "source": [
    "## Perform Lowess Regression"
   ]
  },
  {
   "cell_type": "code",
   "execution_count": 149,
   "metadata": {},
   "outputs": [
    {
     "data": {
      "text/plain": [
       "(-12.336788049070122, 59.03308420049691)"
      ]
     },
     "execution_count": 149,
     "metadata": {},
     "output_type": "execute_result"
    }
   ],
   "source": [
    "#generate actual neighborhoods and matrix of weights\n",
    "neighborhoods_x = \\\n",
    "    np.asarray([np.asarray(rawData['x'])[kn[1][i]] for i in range(len(xgrid))])\n",
    "neighborhoods_y = \\\n",
    "    np.asarray([np.asarray(rawData['y'])[kn[1][i]] for i in range(len(xgrid))])\n",
    "\n",
    "#get x, y averages\n",
    "w_x_avg = np.average(neighborhoods_x, weights = weights, axis = 1)\n",
    "w_y_avg = np.average(neighborhoods_y, weights = weights, axis = 1)\n",
    "\n",
    "#obtain values to sum over in numerator, denominator\n",
    "numerator = np.multiply(\\\n",
    "    np.multiply(neighborhoods_x - w_x_avg.reshape(-1, 1),neighborhoods_y - w_y_avg.reshape(-1, 1)),\\\n",
    "    weights)\n",
    "denominator = np.multiply(\\\n",
    "    np.multiply(neighborhoods_x - w_x_avg.reshape(-1, 1),neighborhoods_x - w_x_avg.reshape(-1, 1)),\\\n",
    "    weights)\n",
    "\n",
    "#Obtain slope, intercept coefficients \n",
    "slopes = np.sum(numerator, axis = 1)/np.sum(denominator, axis = 1)\n",
    "intercepts = w_y_avg - np.multiply(slopes, w_x_avg)"
   ]
  }
 ],
 "metadata": {
  "kernelspec": {
   "display_name": "myenv",
   "language": "python",
   "name": "python3"
  },
  "language_info": {
   "codemirror_mode": {
    "name": "ipython",
    "version": 3
   },
   "file_extension": ".py",
   "mimetype": "text/x-python",
   "name": "python",
   "nbconvert_exporter": "python",
   "pygments_lexer": "ipython3",
   "version": "3.10.13"
  }
 },
 "nbformat": 4,
 "nbformat_minor": 2
}
