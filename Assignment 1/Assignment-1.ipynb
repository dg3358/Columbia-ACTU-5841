{
 "cells": [
  {
   "cell_type": "markdown",
   "metadata": {},
   "source": [
    "# Assignment 1 - Data Science in Finance and Insurance\n",
    "Submission by: Dennis Goldenberg\n"
   ]
  },
  {
   "cell_type": "code",
   "execution_count": 3,
   "metadata": {},
   "outputs": [],
   "source": [
    "#import statements\n",
    "import scipy as sc;\n",
    "import numpy as np;\n",
    "import matplotlib as plt;\n"
   ]
  },
  {
   "cell_type": "markdown",
   "metadata": {},
   "source": [
    "## Generating 2000 Samples from $\\chi^2(11)$ random variable"
   ]
  },
  {
   "cell_type": "code",
   "execution_count": 52,
   "metadata": {},
   "outputs": [
    {
     "data": {
      "text/plain": [
       "2000"
      ]
     },
     "execution_count": 52,
     "metadata": {},
     "output_type": "execute_result"
    }
   ],
   "source": [
    "#Draw from chi-squared dist\n",
    "np.random.seed(462001)\n",
    "samples = sc.stats.chi2.rvs(df = 11, size = 2000000)\n",
    "samples = samples.reshape(2000,1000)"
   ]
  },
  {
   "cell_type": "markdown",
   "metadata": {},
   "source": [
    "## Generating Confidence intervals for each samples\n",
    "Define $t_{p, df}$ as the 100pth percentile of the $t$ distribution with $df$ degrees of freedom. Since the variance is presumed unknown, use the following formula for the 95% confidence interval for the mean of each sample:\n",
    "$$\\left(\\bar{x} - t_{.975, 999}*\\widehat{se}(x), \\bar{x} + t_{.975, 999}*\\widehat{se}(x)\\right)$$\n",
    "Note that I am using $.975$ as the percentile for the $t$-distribution since the t is symmetric and I want to omit the most extreme 2.5% of data on both tails."
   ]
  },
  {
   "cell_type": "code",
   "execution_count": 60,
   "metadata": {},
   "outputs": [
    {
     "data": {
      "text/plain": [
       "0.055"
      ]
     },
     "execution_count": 60,
     "metadata": {},
     "output_type": "execute_result"
    }
   ],
   "source": [
    "#95% confidence interval\n",
    "\n",
    "#Use the t distribution, since variance assumed unknown\n",
    "conf_invs_lb = np.mean(samples, axis = 1) - sc.stats.t.ppf(.975, df = 999)*(np.std(samples, axis = 1, ddof = 1)/np.sqrt(len(samples[0]) - 1))\n",
    "conf_invs_ub = np.mean(samples, axis = 1) + sc.stats.t.ppf(.975, df = 999)*(np.std(samples, axis = 1, ddof = 1)/np.sqrt(len(samples[0]) - 1))\n"
   ]
  },
  {
   "cell_type": "code",
   "execution_count": null,
   "metadata": {},
   "outputs": [],
   "source": []
  }
 ],
 "metadata": {
  "kernelspec": {
   "display_name": "myenv",
   "language": "python",
   "name": "python3"
  },
  "language_info": {
   "codemirror_mode": {
    "name": "ipython",
    "version": 3
   },
   "file_extension": ".py",
   "mimetype": "text/x-python",
   "name": "python",
   "nbconvert_exporter": "python",
   "pygments_lexer": "ipython3",
   "version": "3.11.5"
  },
  "orig_nbformat": 4
 },
 "nbformat": 4,
 "nbformat_minor": 2
}
