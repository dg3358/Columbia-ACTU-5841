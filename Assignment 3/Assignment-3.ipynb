{
 "cells": [
  {
   "cell_type": "markdown",
   "metadata": {},
   "source": [
    "# Assignment 3 - Data Science in Finance and Insurance\n",
    "Submission by: Dennis Goldenberg"
   ]
  },
  {
   "cell_type": "code",
   "execution_count": 1,
   "metadata": {},
   "outputs": [
    {
     "data": {
      "text/plain": [
       "(0.00022, 2.7e-06, 1.124)"
      ]
     },
     "execution_count": 1,
     "metadata": {},
     "output_type": "execute_result"
    }
   ],
   "source": [
    "#import statements\n",
    "import numpy as np;\n",
    "import pandas as pd;\n",
    "import plotnine as pn;\n",
    "\n",
    "#set constants\n",
    "A,B,c = 2.2e-4,2.7e-6,1.124\n",
    "\n",
    "(A,B,c)"
   ]
  },
  {
   "cell_type": "markdown",
   "metadata": {},
   "source": [
    "## Part [a] - Repeated Simpson's Rule for integration in Numpy"
   ]
  },
  {
   "cell_type": "markdown",
   "metadata": {},
   "source": [
    "### Density function for future life Expectancy\n",
    "As stated in the problem, I assume that mortality follows the Makeham law, or:\n",
    "$$f_{T_x}(t) = (A + Bc^{x + t})e^{-At -\\frac{B}{\\log(c)}c^x(c^t - 1)}$$\n",
    "Here, $x$ is the current age of the person, $t$ is the number of years they have left to live, and $A,B,c$ are constants, as defined above. I code this function below."
   ]
  },
  {
   "cell_type": "code",
   "execution_count": 2,
   "metadata": {},
   "outputs": [],
   "source": [
    "#Equation for probability density of living t more years given current age x\n",
    "Makeham = lambda t,x,A = A,B = B,c = c : \\\n",
    "    (A + B*(c**(x + t)))*np.exp(-A*t - (B/np.log(c))*(c**x)*((c**t)- 1))\n",
    "\n",
    "#Create version multiplied by t for purposes of expectation\n",
    "multMakeham = lambda t,x,A = A,B = B,c = c : \\\n",
    "      t * (A + B*(c**(x + t)))* np.exp(-A*t - (B/np.log(c))*(c**x)*((c**t)- 1))\n"
   ]
  },
  {
   "cell_type": "code",
   "execution_count": 3,
   "metadata": {},
   "outputs": [],
   "source": [
    "#Function for simpson's Method on Makeham, given the age\n",
    "def Simpsons(func, currAge, a = 0, n = 50):\n",
    "    #set upper bound of integration\n",
    "    b = 130 - currAge;\n",
    "    h = (b - a)/(2*n)\n",
    "    \n",
    "    #create arrays for function input for I\n",
    "    input_1 = np.array([a + (2*j - 1)*h for j in range(1, n + 1)])\n",
    "    input_2 = np.array([a + 2*j*h for j in range(1, n)])\n",
    "\n",
    "    #Simpson's Rule approximation\n",
    "    I = (h/3)*(func(a, currAge) + 4 * np.sum([func(t, currAge) for t in input_1]) +\\\n",
    "                2 * np.sum([func(t, currAge) for t in input_2]) + func(b, currAge))\n",
    "    return I;\n"
   ]
  },
  {
   "cell_type": "code",
   "execution_count": 4,
   "metadata": {},
   "outputs": [
    {
     "data": {
      "text/html": [
       "<div>\n",
       "<style scoped>\n",
       "    .dataframe tbody tr th:only-of-type {\n",
       "        vertical-align: middle;\n",
       "    }\n",
       "\n",
       "    .dataframe tbody tr th {\n",
       "        vertical-align: top;\n",
       "    }\n",
       "\n",
       "    .dataframe thead th {\n",
       "        text-align: right;\n",
       "    }\n",
       "</style>\n",
       "<table border=\"1\" class=\"dataframe\">\n",
       "  <thead>\n",
       "    <tr style=\"text-align: right;\">\n",
       "      <th></th>\n",
       "      <th>current age</th>\n",
       "      <th>expected future lifetime</th>\n",
       "      <th>expected age at death</th>\n",
       "    </tr>\n",
       "  </thead>\n",
       "  <tbody>\n",
       "    <tr>\n",
       "      <th>0</th>\n",
       "      <td>0.0</td>\n",
       "      <td>85.564247</td>\n",
       "      <td>85.564247</td>\n",
       "    </tr>\n",
       "    <tr>\n",
       "      <th>1</th>\n",
       "      <td>10.0</td>\n",
       "      <td>75.745777</td>\n",
       "      <td>85.745777</td>\n",
       "    </tr>\n",
       "    <tr>\n",
       "      <th>2</th>\n",
       "      <td>20.0</td>\n",
       "      <td>65.913131</td>\n",
       "      <td>85.913131</td>\n",
       "    </tr>\n",
       "    <tr>\n",
       "      <th>3</th>\n",
       "      <td>30.0</td>\n",
       "      <td>56.079203</td>\n",
       "      <td>86.079203</td>\n",
       "    </tr>\n",
       "    <tr>\n",
       "      <th>4</th>\n",
       "      <td>40.0</td>\n",
       "      <td>46.277622</td>\n",
       "      <td>86.277622</td>\n",
       "    </tr>\n",
       "    <tr>\n",
       "      <th>5</th>\n",
       "      <td>50.0</td>\n",
       "      <td>36.591443</td>\n",
       "      <td>86.591443</td>\n",
       "    </tr>\n",
       "    <tr>\n",
       "      <th>6</th>\n",
       "      <td>60.0</td>\n",
       "      <td>27.209687</td>\n",
       "      <td>87.209687</td>\n",
       "    </tr>\n",
       "    <tr>\n",
       "      <th>7</th>\n",
       "      <td>70.0</td>\n",
       "      <td>18.510407</td>\n",
       "      <td>88.510407</td>\n",
       "    </tr>\n",
       "    <tr>\n",
       "      <th>8</th>\n",
       "      <td>80.0</td>\n",
       "      <td>11.103323</td>\n",
       "      <td>91.103323</td>\n",
       "    </tr>\n",
       "    <tr>\n",
       "      <th>9</th>\n",
       "      <td>90.0</td>\n",
       "      <td>5.652803</td>\n",
       "      <td>95.652803</td>\n",
       "    </tr>\n",
       "    <tr>\n",
       "      <th>10</th>\n",
       "      <td>100.0</td>\n",
       "      <td>2.400984</td>\n",
       "      <td>102.400984</td>\n",
       "    </tr>\n",
       "  </tbody>\n",
       "</table>\n",
       "</div>"
      ],
      "text/plain": [
       "    current age  expected future lifetime  expected age at death\n",
       "0           0.0                 85.564247              85.564247\n",
       "1          10.0                 75.745777              85.745777\n",
       "2          20.0                 65.913131              85.913131\n",
       "3          30.0                 56.079203              86.079203\n",
       "4          40.0                 46.277622              86.277622\n",
       "5          50.0                 36.591443              86.591443\n",
       "6          60.0                 27.209687              87.209687\n",
       "7          70.0                 18.510407              88.510407\n",
       "8          80.0                 11.103323              91.103323\n",
       "9          90.0                  5.652803              95.652803\n",
       "10        100.0                  2.400984             102.400984"
      ]
     },
     "execution_count": 4,
     "metadata": {},
     "output_type": "execute_result"
    }
   ],
   "source": [
    "#Create array of ages to evaluate\n",
    "Ages = np.linspace(0, 100, 11);\n",
    "\n",
    "#Create array for expected years left\n",
    "Exp_Fut_life = np.array([Simpsons(multMakeham, age) for age in Ages]);\n",
    "\n",
    "#Create area for expected death age\n",
    "Exp_Death_date = Ages + Exp_Fut_life;\n",
    "\n",
    "data = pd.DataFrame(np.array([Ages, Exp_Fut_life, Exp_Death_date]).T, \\\n",
    "                    columns = [\"current age\", \"expected future lifetime\", \"expected age at death\"])\n",
    "\n",
    "data"
   ]
  },
  {
   "cell_type": "code",
   "execution_count": null,
   "metadata": {},
   "outputs": [],
   "source": []
  }
 ],
 "metadata": {
  "kernelspec": {
   "display_name": "myenv",
   "language": "python",
   "name": "python3"
  },
  "language_info": {
   "codemirror_mode": {
    "name": "ipython",
    "version": 3
   },
   "file_extension": ".py",
   "mimetype": "text/x-python",
   "name": "python",
   "nbconvert_exporter": "python",
   "pygments_lexer": "ipython3",
   "version": "3.11.5"
  },
  "orig_nbformat": 4
 },
 "nbformat": 4,
 "nbformat_minor": 2
}
