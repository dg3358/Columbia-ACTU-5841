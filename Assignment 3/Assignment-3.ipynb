{
 "cells": [
  {
   "cell_type": "markdown",
   "metadata": {},
   "source": [
    "# Assignment 3 - Data Science in Finance and Insurance\n",
    "Submission by: Dennis Goldenberg"
   ]
  },
  {
   "cell_type": "code",
   "execution_count": 63,
   "metadata": {},
   "outputs": [
    {
     "data": {
      "text/plain": [
       "(0.00022, 1.3393609368394221, 1.124)"
      ]
     },
     "execution_count": 63,
     "metadata": {},
     "output_type": "execute_result"
    }
   ],
   "source": [
    "#import statements\n",
    "import numpy as np;\n",
    "import pandas as pd;\n",
    "import plotnine as pn;\n",
    "\n",
    "#set constants\n",
    "A,B,c = 2.2e-4,2.7*np.exp(1) - 6,1.124\n",
    "\n",
    "(A,B,c)"
   ]
  },
  {
   "cell_type": "markdown",
   "metadata": {},
   "source": [
    "## Part [a] - Repeated Simpson's Rule for integration in Numpy"
   ]
  },
  {
   "cell_type": "markdown",
   "metadata": {},
   "source": [
    "### Density function for future life Expectancy\n",
    "As stated in the problem, I assume that mortality follows the Makeham law, or:\n",
    "$$f_{T_x}(t) = (A + Bc^{x + t})e^{-At -\\frac{B}{\\log(c)}c^x(c^t - 1)}$$\n",
    "Here, $x$ is the current age of the person, $t$ is the number of years they have left to live, and $A,B,c$ are constants, as defined above. I code this function below."
   ]
  },
  {
   "cell_type": "code",
   "execution_count": 64,
   "metadata": {},
   "outputs": [],
   "source": [
    "#Equation for probability density of living t more years given current age x\n",
    "Makeham = lambda t,x,A = A,B = B,c = c : \\\n",
    "    (A + B*(c**(x + t)))*np.exp(-1*A*t - (B/np.log(c))*(c**x)*((c**t)- 1))\n",
    "\n",
    "#Create version multiplied by t for purposes of expectation\n",
    "multMakeham = lambda t,x,A = A,B = B,c = c : \\\n",
    "      t * (A + B*(c**(x + t)))*np.exp(-1*A*t - (B/np.log(c))*(c**x)*((c**t)- 1))\n"
   ]
  },
  {
   "cell_type": "code",
   "execution_count": 66,
   "metadata": {},
   "outputs": [
    {
     "data": {
      "text/plain": [
       "0.6255507337986156"
      ]
     },
     "execution_count": 66,
     "metadata": {},
     "output_type": "execute_result"
    }
   ],
   "source": [
    "#Function for simpson's Method on Makeham, given the age\n",
    "def Simpsons(func, currAge, a = 0, n = 50):\n",
    "    #set upper bound of integration\n",
    "    b = 130 - currAge;\n",
    "    h = (b - a)/(2*n)\n",
    "    \n",
    "    #create arrays for function input for I\n",
    "    input_1 = np.array([a + (2*j - 1)*h for j in range(1, n + 1)])\n",
    "    input_2 = np.array([a + 2*j*h for j in range(1, n)])\n",
    "\n",
    "    #Simpson's Rule approximation\n",
    "    I = (h/3)*(func(a, currAge) + 4 * np.sum([func(t, currAge) for t in input_1]) +\\\n",
    "                2 * np.sum([func(t, currAge) for t in input_2]) + func(b, currAge))\n",
    "    return I;\n",
    "\n",
    "Simpsons(multMakeham,0)"
   ]
  },
  {
   "cell_type": "code",
   "execution_count": null,
   "metadata": {},
   "outputs": [],
   "source": []
  }
 ],
 "metadata": {
  "kernelspec": {
   "display_name": "myenv",
   "language": "python",
   "name": "python3"
  },
  "language_info": {
   "codemirror_mode": {
    "name": "ipython",
    "version": 3
   },
   "file_extension": ".py",
   "mimetype": "text/x-python",
   "name": "python",
   "nbconvert_exporter": "python",
   "pygments_lexer": "ipython3",
   "version": "3.11.5"
  },
  "orig_nbformat": 4
 },
 "nbformat": 4,
 "nbformat_minor": 2
}
