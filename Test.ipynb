{
 "cells": [
  {
   "cell_type": "code",
   "execution_count": null,
   "id": "25c42cf1-c123-44d7-8127-04c82cdabdcc",
   "metadata": {},
   "outputs": [],
   "source": [
    "import numpy as np;\n",
    "import scipy as sc;"
   ]
  },
  {
   "cell_type": "code",
   "execution_count": null,
   "id": "dccef98c-2e44-42e1-a2de-d4edbb6855b9",
   "metadata": {},
   "outputs": [],
   "source": [
    "def fibonacci_list(n):\n",
    "    if type(n) != int:\n",
    "        return \"insert an integer\"\n",
    "    elif n == 1:\n",
    "        return 1;\n",
    "    elif n == 2:\n",
    "        return 1 + fibonacci_list(n - 1);\n",
    "    else:\n",
    "        return fibonacci_list(n - 1) + fibonacci_list(n - 2)\n"
   ]
  },
  {
   "cell_type": "code",
   "execution_count": null,
   "id": "3ad2b181-38d8-4529-8b9b-b7aafcf1981b",
   "metadata": {},
   "outputs": [],
   "source": [
    "fibonacci_list(11)"
   ]
  },
  {
   "cell_type": "markdown",
   "id": "988c0bbd",
   "metadata": {},
   "source": [
    "This is some markdown stuff."
   ]
  }
 ],
 "metadata": {
  "kernelspec": {
   "display_name": "Python 3 (ipykernel)",
   "language": "python",
   "name": "python3"
  },
  "language_info": {
   "codemirror_mode": {
    "name": "ipython",
    "version": 3
   },
   "file_extension": ".py",
   "mimetype": "text/x-python",
   "name": "python",
   "nbconvert_exporter": "python",
   "pygments_lexer": "ipython3",
   "version": "3.11.5"
  }
 },
 "nbformat": 4,
 "nbformat_minor": 5
}
